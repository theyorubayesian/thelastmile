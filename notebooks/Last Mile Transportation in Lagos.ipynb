{
 "cells": [
  {
   "cell_type": "markdown",
   "metadata": {},
   "source": [
    "# Imports"
   ]
  },
  {
   "cell_type": "code",
   "execution_count": 1,
   "metadata": {},
   "outputs": [],
   "source": [
    "import pandas as pd\n",
    "import re\n",
    "import matplotlib.pyplot as plt\n",
    "import seaborn as sns; sns.set()\n",
    "import json\n",
    "import spacy\n",
    "\n",
    "import warnings\n",
    "warnings.filterwarnings(\"ignore\")\n",
    "\n",
    "%matplotlib inline"
   ]
  },
  {
   "cell_type": "markdown",
   "metadata": {},
   "source": [
    "# Munging"
   ]
  },
  {
   "cell_type": "code",
   "execution_count": 2,
   "metadata": {},
   "outputs": [],
   "source": [
    "def __process_tweets(filename):\n",
    "        \"\"\"\n",
    "        This func takes the txt file\n",
    "        created from scraping Twitter and\n",
    "        outputs a dataframe\n",
    "        \"\"\"\n",
    "        # initializes emptu list to hold txt data\n",
    "        tweets_data = list()\n",
    "        file = open(filename, \"r\")\n",
    "        \n",
    "        # loops over items in txt file \n",
    "        for i, item in enumerate(file):\n",
    "            \n",
    "            try:\n",
    "                temp = json.loads(item)\n",
    "                tweets_data.append(temp)\n",
    "            except:\n",
    "                #print(f\"Item {i} n se alakori\")\n",
    "                continue\n",
    "        \n",
    "        file.close()\n",
    "        \n",
    "        return pd.DataFrame(tweets_data)"
   ]
  },
  {
   "cell_type": "code",
   "execution_count": 3,
   "metadata": {},
   "outputs": [],
   "source": [
    "text = \"../data/OkadaBan_{0}.txt\"  # template string for filenames"
   ]
  },
  {
   "cell_type": "code",
   "execution_count": 4,
   "metadata": {},
   "outputs": [
    {
     "name": "stdout",
     "output_type": "stream",
     "text": [
      "(3253, 36)\n"
     ]
    }
   ],
   "source": [
    "# initializes empty dataframe to hold tweets\n",
    "data = pd.DataFrame()\n",
    "# loops over the 13 files, processsing and concat-ing them.\n",
    "for i in range(1, 14):\n",
    "\n",
    "    okada_ban_file = text.format(i)\n",
    "\n",
    "    temp = __process_tweets(okada_ban_file)\n",
    "\n",
    "    if data.empty:\n",
    "        data = temp\n",
    "    else:\n",
    "        data = pd.concat([data, temp], ignore_index=True, sort=False)\n",
    "\n",
    "print(data.shape)"
   ]
  },
  {
   "cell_type": "markdown",
   "metadata": {},
   "source": [
    "data = pd.read_csv(\"OkadaBan.csv\")"
   ]
  },
  {
   "cell_type": "code",
   "execution_count": 23,
   "metadata": {},
   "outputs": [],
   "source": [
    "plentywaka = pd.read_csv(\"../data/plentywaka_data_1.csv\")"
   ]
  },
  {
   "cell_type": "code",
   "execution_count": 6,
   "metadata": {},
   "outputs": [
    {
     "data": {
      "text/html": [
       "<div>\n",
       "<style scoped>\n",
       "    .dataframe tbody tr th:only-of-type {\n",
       "        vertical-align: middle;\n",
       "    }\n",
       "\n",
       "    .dataframe tbody tr th {\n",
       "        vertical-align: top;\n",
       "    }\n",
       "\n",
       "    .dataframe thead th {\n",
       "        text-align: right;\n",
       "    }\n",
       "</style>\n",
       "<table border=\"1\" class=\"dataframe\">\n",
       "  <thead>\n",
       "    <tr style=\"text-align: right;\">\n",
       "      <th></th>\n",
       "      <th>favorite_count</th>\n",
       "      <th>reply_count</th>\n",
       "      <th>retweet_count</th>\n",
       "      <th>quote_count</th>\n",
       "    </tr>\n",
       "  </thead>\n",
       "  <tbody>\n",
       "    <tr>\n",
       "      <td>count</td>\n",
       "      <td>3253.0</td>\n",
       "      <td>3253.0</td>\n",
       "      <td>3253.0</td>\n",
       "      <td>3253.0</td>\n",
       "    </tr>\n",
       "    <tr>\n",
       "      <td>mean</td>\n",
       "      <td>0.0</td>\n",
       "      <td>0.0</td>\n",
       "      <td>0.0</td>\n",
       "      <td>0.0</td>\n",
       "    </tr>\n",
       "    <tr>\n",
       "      <td>std</td>\n",
       "      <td>0.0</td>\n",
       "      <td>0.0</td>\n",
       "      <td>0.0</td>\n",
       "      <td>0.0</td>\n",
       "    </tr>\n",
       "    <tr>\n",
       "      <td>min</td>\n",
       "      <td>0.0</td>\n",
       "      <td>0.0</td>\n",
       "      <td>0.0</td>\n",
       "      <td>0.0</td>\n",
       "    </tr>\n",
       "    <tr>\n",
       "      <td>25%</td>\n",
       "      <td>0.0</td>\n",
       "      <td>0.0</td>\n",
       "      <td>0.0</td>\n",
       "      <td>0.0</td>\n",
       "    </tr>\n",
       "    <tr>\n",
       "      <td>50%</td>\n",
       "      <td>0.0</td>\n",
       "      <td>0.0</td>\n",
       "      <td>0.0</td>\n",
       "      <td>0.0</td>\n",
       "    </tr>\n",
       "    <tr>\n",
       "      <td>75%</td>\n",
       "      <td>0.0</td>\n",
       "      <td>0.0</td>\n",
       "      <td>0.0</td>\n",
       "      <td>0.0</td>\n",
       "    </tr>\n",
       "    <tr>\n",
       "      <td>max</td>\n",
       "      <td>0.0</td>\n",
       "      <td>0.0</td>\n",
       "      <td>0.0</td>\n",
       "      <td>0.0</td>\n",
       "    </tr>\n",
       "  </tbody>\n",
       "</table>\n",
       "</div>"
      ],
      "text/plain": [
       "       favorite_count  reply_count  retweet_count  quote_count\n",
       "count          3253.0       3253.0         3253.0       3253.0\n",
       "mean              0.0          0.0            0.0          0.0\n",
       "std               0.0          0.0            0.0          0.0\n",
       "min               0.0          0.0            0.0          0.0\n",
       "25%               0.0          0.0            0.0          0.0\n",
       "50%               0.0          0.0            0.0          0.0\n",
       "75%               0.0          0.0            0.0          0.0\n",
       "max               0.0          0.0            0.0          0.0"
      ]
     },
     "execution_count": 6,
     "metadata": {},
     "output_type": "execute_result"
    }
   ],
   "source": [
    "data[[\"created_at\", 'favorite_count', 'reply_count', 'retweet_count', 'quote_count']].describe()"
   ]
  },
  {
   "cell_type": "code",
   "execution_count": 26,
   "metadata": {},
   "outputs": [],
   "source": [
    "plentywaka = plentywaka.loc[plentywaka.truncated.eq(False)]"
   ]
  },
  {
   "cell_type": "code",
   "execution_count": 27,
   "metadata": {},
   "outputs": [
    {
     "data": {
      "text/plain": [
       "(735, 333)"
      ]
     },
     "execution_count": 27,
     "metadata": {},
     "output_type": "execute_result"
    }
   ],
   "source": [
    "plentywaka.shape"
   ]
  },
  {
   "cell_type": "code",
   "execution_count": null,
   "metadata": {},
   "outputs": [],
   "source": []
  },
  {
   "cell_type": "code",
   "execution_count": 6,
   "metadata": {},
   "outputs": [
    {
     "data": {
      "text/html": [
       "<div>\n",
       "<style scoped>\n",
       "    .dataframe tbody tr th:only-of-type {\n",
       "        vertical-align: middle;\n",
       "    }\n",
       "\n",
       "    .dataframe tbody tr th {\n",
       "        vertical-align: top;\n",
       "    }\n",
       "\n",
       "    .dataframe thead th {\n",
       "        text-align: right;\n",
       "    }\n",
       "</style>\n",
       "<table border=\"1\" class=\"dataframe\">\n",
       "  <thead>\n",
       "    <tr style=\"text-align: right;\">\n",
       "      <th></th>\n",
       "      <th>created_at</th>\n",
       "      <th>id</th>\n",
       "      <th>id_str</th>\n",
       "      <th>text</th>\n",
       "      <th>source</th>\n",
       "      <th>truncated</th>\n",
       "      <th>in_reply_to_status_id</th>\n",
       "      <th>in_reply_to_status_id_str</th>\n",
       "      <th>in_reply_to_user_id</th>\n",
       "      <th>in_reply_to_user_id_str</th>\n",
       "      <th>...</th>\n",
       "      <th>entities</th>\n",
       "      <th>favorited</th>\n",
       "      <th>retweeted</th>\n",
       "      <th>filter_level</th>\n",
       "      <th>lang</th>\n",
       "      <th>timestamp_ms</th>\n",
       "      <th>extended_entities</th>\n",
       "      <th>possibly_sensitive</th>\n",
       "      <th>display_text_range</th>\n",
       "      <th>extended_tweet</th>\n",
       "    </tr>\n",
       "  </thead>\n",
       "  <tbody>\n",
       "    <tr>\n",
       "      <td>0</td>\n",
       "      <td>Tue Feb 04 07:30:59 +0000 2020</td>\n",
       "      <td>1224596197270282242</td>\n",
       "      <td>1224596197270282242</td>\n",
       "      <td>RT @LSolarin1: Dear lagosians If you live arou...</td>\n",
       "      <td>&lt;a href=\"http://twitter.com/download/iphone\" r...</td>\n",
       "      <td>False</td>\n",
       "      <td>NaN</td>\n",
       "      <td>None</td>\n",
       "      <td>NaN</td>\n",
       "      <td>None</td>\n",
       "      <td>...</td>\n",
       "      <td>{'hashtags': [], 'urls': [], 'user_mentions': ...</td>\n",
       "      <td>False</td>\n",
       "      <td>False</td>\n",
       "      <td>low</td>\n",
       "      <td>en</td>\n",
       "      <td>1580801459983</td>\n",
       "      <td>NaN</td>\n",
       "      <td>NaN</td>\n",
       "      <td>NaN</td>\n",
       "      <td>NaN</td>\n",
       "    </tr>\n",
       "    <tr>\n",
       "      <td>1</td>\n",
       "      <td>Tue Feb 04 07:31:01 +0000 2020</td>\n",
       "      <td>1224596205424062464</td>\n",
       "      <td>1224596205424062464</td>\n",
       "      <td>RT @akorive001: As we drill @jidesanwoolu on #...</td>\n",
       "      <td>&lt;a href=\"http://twitter.com/download/android\" ...</td>\n",
       "      <td>False</td>\n",
       "      <td>NaN</td>\n",
       "      <td>None</td>\n",
       "      <td>NaN</td>\n",
       "      <td>None</td>\n",
       "      <td>...</td>\n",
       "      <td>{'hashtags': [{'text': 'LagosOkadaBan', 'indic...</td>\n",
       "      <td>False</td>\n",
       "      <td>False</td>\n",
       "      <td>low</td>\n",
       "      <td>en</td>\n",
       "      <td>1580801461927</td>\n",
       "      <td>NaN</td>\n",
       "      <td>NaN</td>\n",
       "      <td>NaN</td>\n",
       "      <td>NaN</td>\n",
       "    </tr>\n",
       "    <tr>\n",
       "      <td>2</td>\n",
       "      <td>Tue Feb 04 07:31:09 +0000 2020</td>\n",
       "      <td>1224596238529716227</td>\n",
       "      <td>1224596238529716227</td>\n",
       "      <td>RT @Tife_fabunmi: Dear Lagosians, kindly stay ...</td>\n",
       "      <td>&lt;a href=\"http://twitter.com/download/android\" ...</td>\n",
       "      <td>False</td>\n",
       "      <td>NaN</td>\n",
       "      <td>None</td>\n",
       "      <td>NaN</td>\n",
       "      <td>None</td>\n",
       "      <td>...</td>\n",
       "      <td>{'hashtags': [], 'urls': [], 'user_mentions': ...</td>\n",
       "      <td>False</td>\n",
       "      <td>False</td>\n",
       "      <td>low</td>\n",
       "      <td>en</td>\n",
       "      <td>1580801469820</td>\n",
       "      <td>NaN</td>\n",
       "      <td>NaN</td>\n",
       "      <td>NaN</td>\n",
       "      <td>NaN</td>\n",
       "    </tr>\n",
       "    <tr>\n",
       "      <td>3</td>\n",
       "      <td>Tue Feb 04 07:31:33 +0000 2020</td>\n",
       "      <td>1224596337557213185</td>\n",
       "      <td>1224596337557213185</td>\n",
       "      <td>RT @LSolarin1: Dear lagosians If you live arou...</td>\n",
       "      <td>&lt;a href=\"http://twitter.com/download/android\" ...</td>\n",
       "      <td>False</td>\n",
       "      <td>NaN</td>\n",
       "      <td>None</td>\n",
       "      <td>NaN</td>\n",
       "      <td>None</td>\n",
       "      <td>...</td>\n",
       "      <td>{'hashtags': [], 'urls': [], 'user_mentions': ...</td>\n",
       "      <td>False</td>\n",
       "      <td>False</td>\n",
       "      <td>low</td>\n",
       "      <td>en</td>\n",
       "      <td>1580801493430</td>\n",
       "      <td>NaN</td>\n",
       "      <td>NaN</td>\n",
       "      <td>NaN</td>\n",
       "      <td>NaN</td>\n",
       "    </tr>\n",
       "    <tr>\n",
       "      <td>4</td>\n",
       "      <td>Tue Feb 04 07:31:50 +0000 2020</td>\n",
       "      <td>1224596407149113345</td>\n",
       "      <td>1224596407149113345</td>\n",
       "      <td>RT @Amy_Siskind: So Klobuchar who was the only...</td>\n",
       "      <td>&lt;a href=\"http://twitter.com/#!/download/ipad\" ...</td>\n",
       "      <td>False</td>\n",
       "      <td>NaN</td>\n",
       "      <td>None</td>\n",
       "      <td>NaN</td>\n",
       "      <td>None</td>\n",
       "      <td>...</td>\n",
       "      <td>{'hashtags': [], 'urls': [], 'user_mentions': ...</td>\n",
       "      <td>False</td>\n",
       "      <td>False</td>\n",
       "      <td>low</td>\n",
       "      <td>en</td>\n",
       "      <td>1580801510022</td>\n",
       "      <td>NaN</td>\n",
       "      <td>NaN</td>\n",
       "      <td>NaN</td>\n",
       "      <td>NaN</td>\n",
       "    </tr>\n",
       "  </tbody>\n",
       "</table>\n",
       "<p>5 rows × 36 columns</p>\n",
       "</div>"
      ],
      "text/plain": [
       "                       created_at                   id               id_str  \\\n",
       "0  Tue Feb 04 07:30:59 +0000 2020  1224596197270282242  1224596197270282242   \n",
       "1  Tue Feb 04 07:31:01 +0000 2020  1224596205424062464  1224596205424062464   \n",
       "2  Tue Feb 04 07:31:09 +0000 2020  1224596238529716227  1224596238529716227   \n",
       "3  Tue Feb 04 07:31:33 +0000 2020  1224596337557213185  1224596337557213185   \n",
       "4  Tue Feb 04 07:31:50 +0000 2020  1224596407149113345  1224596407149113345   \n",
       "\n",
       "                                                text  \\\n",
       "0  RT @LSolarin1: Dear lagosians If you live arou...   \n",
       "1  RT @akorive001: As we drill @jidesanwoolu on #...   \n",
       "2  RT @Tife_fabunmi: Dear Lagosians, kindly stay ...   \n",
       "3  RT @LSolarin1: Dear lagosians If you live arou...   \n",
       "4  RT @Amy_Siskind: So Klobuchar who was the only...   \n",
       "\n",
       "                                              source  truncated  \\\n",
       "0  <a href=\"http://twitter.com/download/iphone\" r...      False   \n",
       "1  <a href=\"http://twitter.com/download/android\" ...      False   \n",
       "2  <a href=\"http://twitter.com/download/android\" ...      False   \n",
       "3  <a href=\"http://twitter.com/download/android\" ...      False   \n",
       "4  <a href=\"http://twitter.com/#!/download/ipad\" ...      False   \n",
       "\n",
       "   in_reply_to_status_id in_reply_to_status_id_str  in_reply_to_user_id  \\\n",
       "0                    NaN                      None                  NaN   \n",
       "1                    NaN                      None                  NaN   \n",
       "2                    NaN                      None                  NaN   \n",
       "3                    NaN                      None                  NaN   \n",
       "4                    NaN                      None                  NaN   \n",
       "\n",
       "  in_reply_to_user_id_str  ...  \\\n",
       "0                    None  ...   \n",
       "1                    None  ...   \n",
       "2                    None  ...   \n",
       "3                    None  ...   \n",
       "4                    None  ...   \n",
       "\n",
       "                                            entities favorited retweeted  \\\n",
       "0  {'hashtags': [], 'urls': [], 'user_mentions': ...     False     False   \n",
       "1  {'hashtags': [{'text': 'LagosOkadaBan', 'indic...     False     False   \n",
       "2  {'hashtags': [], 'urls': [], 'user_mentions': ...     False     False   \n",
       "3  {'hashtags': [], 'urls': [], 'user_mentions': ...     False     False   \n",
       "4  {'hashtags': [], 'urls': [], 'user_mentions': ...     False     False   \n",
       "\n",
       "  filter_level lang   timestamp_ms extended_entities  possibly_sensitive  \\\n",
       "0          low   en  1580801459983               NaN                 NaN   \n",
       "1          low   en  1580801461927               NaN                 NaN   \n",
       "2          low   en  1580801469820               NaN                 NaN   \n",
       "3          low   en  1580801493430               NaN                 NaN   \n",
       "4          low   en  1580801510022               NaN                 NaN   \n",
       "\n",
       "  display_text_range extended_tweet  \n",
       "0                NaN            NaN  \n",
       "1                NaN            NaN  \n",
       "2                NaN            NaN  \n",
       "3                NaN            NaN  \n",
       "4                NaN            NaN  \n",
       "\n",
       "[5 rows x 36 columns]"
      ]
     },
     "execution_count": 6,
     "metadata": {},
     "output_type": "execute_result"
    }
   ],
   "source": [
    "data.head()"
   ]
  },
  {
   "cell_type": "markdown",
   "metadata": {},
   "source": [
    "data.to_csv(\"OkadaBan.csv\", index=False)  # writes the tweets dataframe to a csv file. "
   ]
  },
  {
   "cell_type": "code",
   "execution_count": 7,
   "metadata": {},
   "outputs": [
    {
     "data": {
      "text/html": [
       "<div>\n",
       "<style scoped>\n",
       "    .dataframe tbody tr th:only-of-type {\n",
       "        vertical-align: middle;\n",
       "    }\n",
       "\n",
       "    .dataframe tbody tr th {\n",
       "        vertical-align: top;\n",
       "    }\n",
       "\n",
       "    .dataframe thead th {\n",
       "        text-align: right;\n",
       "    }\n",
       "</style>\n",
       "<table border=\"1\" class=\"dataframe\">\n",
       "  <thead>\n",
       "    <tr style=\"text-align: right;\">\n",
       "      <th></th>\n",
       "      <th>created_at</th>\n",
       "      <th>id</th>\n",
       "      <th>id_str</th>\n",
       "      <th>text</th>\n",
       "      <th>source</th>\n",
       "      <th>truncated</th>\n",
       "      <th>in_reply_to_status_id</th>\n",
       "      <th>in_reply_to_status_id_str</th>\n",
       "      <th>in_reply_to_user_id</th>\n",
       "      <th>in_reply_to_user_id_str</th>\n",
       "      <th>...</th>\n",
       "      <th>entities</th>\n",
       "      <th>favorited</th>\n",
       "      <th>retweeted</th>\n",
       "      <th>filter_level</th>\n",
       "      <th>lang</th>\n",
       "      <th>timestamp_ms</th>\n",
       "      <th>extended_entities</th>\n",
       "      <th>possibly_sensitive</th>\n",
       "      <th>display_text_range</th>\n",
       "      <th>extended_tweet</th>\n",
       "    </tr>\n",
       "  </thead>\n",
       "  <tbody>\n",
       "    <tr>\n",
       "      <td>1631</td>\n",
       "      <td>Mon Feb 03 15:40:11 +0000 2020</td>\n",
       "      <td>1224356919265112064</td>\n",
       "      <td>1224356919265112064</td>\n",
       "      <td>RT @g_omijie: @Mr_JAGs @Riddwane @dr_oladeinde...</td>\n",
       "      <td>&lt;a href=\"http://twitter.com/download/android\" ...</td>\n",
       "      <td>False</td>\n",
       "      <td>NaN</td>\n",
       "      <td>None</td>\n",
       "      <td>NaN</td>\n",
       "      <td>None</td>\n",
       "      <td>...</td>\n",
       "      <td>{'hashtags': [], 'urls': [], 'user_mentions': ...</td>\n",
       "      <td>False</td>\n",
       "      <td>False</td>\n",
       "      <td>low</td>\n",
       "      <td>en</td>\n",
       "      <td>1580744411661</td>\n",
       "      <td>NaN</td>\n",
       "      <td>NaN</td>\n",
       "      <td>NaN</td>\n",
       "      <td>NaN</td>\n",
       "    </tr>\n",
       "  </tbody>\n",
       "</table>\n",
       "<p>1 rows × 36 columns</p>\n",
       "</div>"
      ],
      "text/plain": [
       "                          created_at                   id  \\\n",
       "1631  Mon Feb 03 15:40:11 +0000 2020  1224356919265112064   \n",
       "\n",
       "                   id_str                                               text  \\\n",
       "1631  1224356919265112064  RT @g_omijie: @Mr_JAGs @Riddwane @dr_oladeinde...   \n",
       "\n",
       "                                                 source  truncated  \\\n",
       "1631  <a href=\"http://twitter.com/download/android\" ...      False   \n",
       "\n",
       "      in_reply_to_status_id in_reply_to_status_id_str  in_reply_to_user_id  \\\n",
       "1631                    NaN                      None                  NaN   \n",
       "\n",
       "     in_reply_to_user_id_str  ...  \\\n",
       "1631                    None  ...   \n",
       "\n",
       "                                               entities favorited retweeted  \\\n",
       "1631  {'hashtags': [], 'urls': [], 'user_mentions': ...     False     False   \n",
       "\n",
       "     filter_level lang   timestamp_ms extended_entities  possibly_sensitive  \\\n",
       "1631          low   en  1580744411661               NaN                 NaN   \n",
       "\n",
       "     display_text_range extended_tweet  \n",
       "1631                NaN            NaN  \n",
       "\n",
       "[1 rows x 36 columns]"
      ]
     },
     "execution_count": 7,
     "metadata": {},
     "output_type": "execute_result"
    }
   ],
   "source": [
    "data.loc[sample(range(len(data)), 1)]  # a sample of a tweet "
   ]
  },
  {
   "cell_type": "markdown",
   "metadata": {},
   "source": [
    "### Comments\n",
    "\n",
    "Upon inspection, different categories of tweets must be dealt with:\n",
    "\n",
    "* Quoted tweeets: data.is_quoted_status == True | Check quoted_status dict for full details | Some may be truncated, others will not be. \n",
    "* Truncated tweets: data.truncated == True | Check extended_tweet dict for full tweet. \n",
    "* Non-retweeted tweets: data.retweeted_status.isna() == True | Full tweet is already in text column\n",
    "* Retweeted tweets: data.retweeted_status.notna() == True | Check retweeted_status dict for full tweet | Some may be truncated, others will not be. "
   ]
  },
  {
   "cell_type": "markdown",
   "metadata": {},
   "source": [
    "## Quoted Tweets"
   ]
  },
  {
   "cell_type": "code",
   "execution_count": 8,
   "metadata": {},
   "outputs": [
    {
     "data": {
      "text/plain": [
       "False    2276\n",
       "True      977\n",
       "Name: is_quote_status, dtype: int64"
      ]
     },
     "execution_count": 8,
     "metadata": {},
     "output_type": "execute_result"
    }
   ],
   "source": [
    "data.is_quote_status.value_counts()  # check fraction of data that are quoted tweets "
   ]
  },
  {
   "cell_type": "code",
   "execution_count": 9,
   "metadata": {},
   "outputs": [],
   "source": [
    "quoted_data = data.loc[data.is_quote_status.eq(True)] # separate out quoted tweets so they can be treated differently "
   ]
  },
  {
   "cell_type": "code",
   "execution_count": 10,
   "metadata": {},
   "outputs": [],
   "source": [
    "data.drop(quoted_data.index, axis=0, inplace=True)  # drop quoted tweets that have been separated "
   ]
  },
  {
   "cell_type": "markdown",
   "metadata": {},
   "source": [
    "### Truncated Quoted Tweets"
   ]
  },
  {
   "cell_type": "code",
   "execution_count": 11,
   "metadata": {},
   "outputs": [
    {
     "data": {
      "text/plain": [
       "True     784\n",
       "False    193\n",
       "Name: quoted_status, dtype: int64"
      ]
     },
     "execution_count": 11,
     "metadata": {},
     "output_type": "execute_result"
    }
   ],
   "source": [
    "quoted_data.quoted_status.apply(lambda x: x[\"truncated\"]).value_counts()  # check fraction of quoted tweets that are truncated "
   ]
  },
  {
   "cell_type": "code",
   "execution_count": 12,
   "metadata": {},
   "outputs": [],
   "source": [
    "quoted_data_truncated = quoted_data.loc[quoted_data.quoted_status.apply(lambda x: x[\"truncated\"]).eq(True)]  # separate out truncated quoted tweets "
   ]
  },
  {
   "cell_type": "code",
   "execution_count": 13,
   "metadata": {},
   "outputs": [],
   "source": [
    "quoted_data_truncated.loc[:, \"text\"] = quoted_data_truncated.quoted_status.apply(lambda x: x[\"extended_tweet\"]).apply(lambda x: x[\"full_text\"])  #.tolist()  #.to_dict()"
   ]
  },
  {
   "cell_type": "code",
   "execution_count": 14,
   "metadata": {},
   "outputs": [
    {
     "data": {
      "text/plain": [
       "['Dear Lagosians, kindly stay safe out there. Don’t accept every lift offer you get from any vehicle when trekking to your bus stop or office.\\n\\nIt’s better to trek few distances than to get missing.\\nStay safe and observant.💙']"
      ]
     },
     "execution_count": 14,
     "metadata": {},
     "output_type": "execute_result"
    }
   ],
   "source": [
    "sample(quoted_data_truncated.text.tolist(), 1)  # sample of text  "
   ]
  },
  {
   "cell_type": "markdown",
   "metadata": {},
   "source": [
    "### Non-Truncated Quoted Tweets "
   ]
  },
  {
   "cell_type": "code",
   "execution_count": 15,
   "metadata": {},
   "outputs": [],
   "source": [
    "quoted_data.drop(quoted_data_truncated.index, axis=0, inplace=True)  # drop truncated quoted tweets that have been separated "
   ]
  },
  {
   "cell_type": "code",
   "execution_count": 16,
   "metadata": {},
   "outputs": [],
   "source": [
    "quoted_data.loc[:, \"text\"] = quoted_data.quoted_status.apply(lambda x: x[\"text\"])  #.tolist()"
   ]
  },
  {
   "cell_type": "code",
   "execution_count": 17,
   "metadata": {},
   "outputs": [
    {
     "data": {
      "text/plain": [
       "[\"What's the strangest way you found out YOU yourself you are poor?\"]"
      ]
     },
     "execution_count": 17,
     "metadata": {},
     "output_type": "execute_result"
    }
   ],
   "source": [
    "sample(quoted_data.text.tolist(), 1)  # sample of text "
   ]
  },
  {
   "cell_type": "markdown",
   "metadata": {},
   "source": [
    "## Truncated Tweets"
   ]
  },
  {
   "cell_type": "code",
   "execution_count": 18,
   "metadata": {},
   "outputs": [
    {
     "data": {
      "text/plain": [
       "False    1846\n",
       "True      430\n",
       "Name: truncated, dtype: int64"
      ]
     },
     "execution_count": 18,
     "metadata": {},
     "output_type": "execute_result"
    }
   ],
   "source": [
    "data.truncated.value_counts()  # check fraction of data that is truncated tweets "
   ]
  },
  {
   "cell_type": "code",
   "execution_count": 19,
   "metadata": {},
   "outputs": [],
   "source": [
    "truncated_data = data.loc[data.truncated.eq(True)]  # separate out truncated tweets so they can be treated differently "
   ]
  },
  {
   "cell_type": "code",
   "execution_count": 20,
   "metadata": {},
   "outputs": [],
   "source": [
    "truncated_data.loc[:, \"text\"] = truncated_data.extended_tweet.apply(lambda x: x[\"full_text\"])  "
   ]
  },
  {
   "cell_type": "code",
   "execution_count": 21,
   "metadata": {},
   "outputs": [
    {
     "data": {
      "text/plain": [
       "['@StigEzeh @irediaaa howfar that year wey men go trek from Ekosodin go gtbank for main gate deposit H make man fit collect 2H for fidelity atm take chow one Santana without meat for purely 🤧😭😂']"
      ]
     },
     "execution_count": 21,
     "metadata": {},
     "output_type": "execute_result"
    }
   ],
   "source": [
    "sample(truncated_data.text.tolist(), 1)"
   ]
  },
  {
   "cell_type": "markdown",
   "metadata": {},
   "source": [
    "## Non-retweeted Tweets"
   ]
  },
  {
   "cell_type": "code",
   "execution_count": 22,
   "metadata": {},
   "outputs": [],
   "source": [
    "data.drop(truncated_data.index, axis=0, inplace=True)  # drop truncated tweets that have been separated"
   ]
  },
  {
   "cell_type": "code",
   "execution_count": 23,
   "metadata": {},
   "outputs": [
    {
     "data": {
      "text/plain": [
       "249"
      ]
     },
     "execution_count": 23,
     "metadata": {},
     "output_type": "execute_result"
    }
   ],
   "source": [
    "data.retweeted_status.isna().sum()  # number of tweets that are not retweets "
   ]
  },
  {
   "cell_type": "code",
   "execution_count": 24,
   "metadata": {},
   "outputs": [],
   "source": [
    "retweeted_status_isna_data = data.loc[data.retweeted_status.isna()]  # separate out tweets that are not retweets "
   ]
  },
  {
   "cell_type": "code",
   "execution_count": 25,
   "metadata": {},
   "outputs": [
    {
     "data": {
      "text/plain": [
       "[\"I watched the first episode of star trek picard, it's AMAZING, the whole plot was so interesting, it was everything I expect from star trek\"]"
      ]
     },
     "execution_count": 25,
     "metadata": {},
     "output_type": "execute_result"
    }
   ],
   "source": [
    "sample(retweeted_status_isna_data.text.tolist(), 1)"
   ]
  },
  {
   "cell_type": "markdown",
   "metadata": {},
   "source": [
    "## Retweeted Tweets"
   ]
  },
  {
   "cell_type": "code",
   "execution_count": 26,
   "metadata": {},
   "outputs": [],
   "source": [
    "data.drop(retweeted_status_isna_data.index, axis=0, inplace=True)  # drop non-retweeted tweets that have been separated"
   ]
  },
  {
   "cell_type": "code",
   "execution_count": 27,
   "metadata": {},
   "outputs": [
    {
     "data": {
      "text/plain": [
       "True     1446\n",
       "False     151\n",
       "Name: retweeted_status, dtype: int64"
      ]
     },
     "execution_count": 27,
     "metadata": {},
     "output_type": "execute_result"
    }
   ],
   "source": [
    "data.retweeted_status.apply(lambda x: x[\"truncated\"]).value_counts()  # number of retweeted tweets that are truncated "
   ]
  },
  {
   "cell_type": "markdown",
   "metadata": {},
   "source": [
    "### Truncated Retweeted Tweets"
   ]
  },
  {
   "cell_type": "code",
   "execution_count": 28,
   "metadata": {},
   "outputs": [],
   "source": [
    "retweeted_status_notna_truncated_true_data = data.loc[data.retweeted_status.apply(lambda x: x[\"truncated\"]).eq(True)]  # separate out retweeted status that are truncated "
   ]
  },
  {
   "cell_type": "code",
   "execution_count": 29,
   "metadata": {},
   "outputs": [],
   "source": [
    "retweeted_status_notna_truncated_true_data.loc[:, \"text\"] = retweeted_status_notna_truncated_true_data.retweeted_status.apply(lambda x: x[\"extended_tweet\"]).apply(lambda y: y[\"full_text\"]) #.tolist()"
   ]
  },
  {
   "cell_type": "code",
   "execution_count": 30,
   "metadata": {},
   "outputs": [
    {
     "data": {
      "text/plain": [
       "[\"Please if you'll be trekking from ikeja along tomorrow to either opebi or ikeja GRA or anywhere inside ikeja kindly like this tweet. I'll DM you a link to a WhatsApp group so we can trek in groups\\nThank you.❤️\\n\\n@_NerdyTalker @Gidi_Traffic @BisolaSanusi @iamdahmmie RT🙏\"]"
      ]
     },
     "execution_count": 30,
     "metadata": {},
     "output_type": "execute_result"
    }
   ],
   "source": [
    "sample(retweeted_status_notna_truncated_true_data.text.tolist(), 1) # sample of text "
   ]
  },
  {
   "cell_type": "markdown",
   "metadata": {},
   "source": [
    "### Non-Truncated Retweeted Tweets"
   ]
  },
  {
   "cell_type": "code",
   "execution_count": 31,
   "metadata": {},
   "outputs": [],
   "source": [
    "data.drop(retweeted_status_notna_truncated_true_data.index, axis=0, inplace=True)  # drop truncated retweeted status that have been separated out "
   ]
  },
  {
   "cell_type": "code",
   "execution_count": 32,
   "metadata": {},
   "outputs": [],
   "source": [
    "data.loc[:, \"text\"] = data.retweeted_status.apply(lambda x: x[\"text\"]) # sample of text "
   ]
  },
  {
   "cell_type": "code",
   "execution_count": 33,
   "metadata": {},
   "outputs": [
    {
     "data": {
      "text/plain": [
       "[\"Whether you prefer the view from Earth's highest peak or deepest crevices, find the inspiration for your next trek. https://t.co/0Lz6vkrI43\"]"
      ]
     },
     "execution_count": 33,
     "metadata": {},
     "output_type": "execute_result"
    }
   ],
   "source": [
    "sample(data.text.tolist(), 1)"
   ]
  },
  {
   "cell_type": "markdown",
   "metadata": {},
   "source": [
    "# Data Integration"
   ]
  },
  {
   "cell_type": "code",
   "execution_count": 44,
   "metadata": {},
   "outputs": [],
   "source": [
    "useful_columns = [\"created_at\", \"reply_count\", \"retweet_count\", \"favorite_count\", \"quote_count\", \"text\", \"user\"]  # features that are useful for analysis "
   ]
  },
  {
   "cell_type": "code",
   "execution_count": 45,
   "metadata": {},
   "outputs": [],
   "source": [
    "datasets = [data, retweeted_status_notna_truncated_true_data, retweeted_status_isna_data, truncated_data, quoted_data, quoted_data_truncated]"
   ]
  },
  {
   "cell_type": "code",
   "execution_count": 47,
   "metadata": {},
   "outputs": [],
   "source": [
    "cleaned_data = pd.concat([ds[useful_columns] for ds in datasets], sort=False)"
   ]
  },
  {
   "cell_type": "code",
   "execution_count": 67,
   "metadata": {},
   "outputs": [
    {
     "data": {
      "text/html": [
       "<div>\n",
       "<style scoped>\n",
       "    .dataframe tbody tr th:only-of-type {\n",
       "        vertical-align: middle;\n",
       "    }\n",
       "\n",
       "    .dataframe tbody tr th {\n",
       "        vertical-align: top;\n",
       "    }\n",
       "\n",
       "    .dataframe thead th {\n",
       "        text-align: right;\n",
       "    }\n",
       "</style>\n",
       "<table border=\"1\" class=\"dataframe\">\n",
       "  <thead>\n",
       "    <tr style=\"text-align: right;\">\n",
       "      <th></th>\n",
       "      <th>created_at</th>\n",
       "      <th>reply_count</th>\n",
       "      <th>retweet_count</th>\n",
       "      <th>favorite_count</th>\n",
       "      <th>quote_count</th>\n",
       "      <th>text</th>\n",
       "      <th>screen_name</th>\n",
       "      <th>followers_count</th>\n",
       "    </tr>\n",
       "  </thead>\n",
       "  <tbody>\n",
       "    <tr>\n",
       "      <td>0</td>\n",
       "      <td>Tue Feb 04 07:30:59 +0000 2020</td>\n",
       "      <td>0</td>\n",
       "      <td>0</td>\n",
       "      <td>0</td>\n",
       "      <td>0</td>\n",
       "      <td>Dear Lagosians, kindly stay safe out there. Do...</td>\n",
       "      <td>Hawt_Carter</td>\n",
       "      <td>524</td>\n",
       "    </tr>\n",
       "    <tr>\n",
       "      <td>1</td>\n",
       "      <td>Tue Feb 04 07:31:01 +0000 2020</td>\n",
       "      <td>0</td>\n",
       "      <td>0</td>\n",
       "      <td>0</td>\n",
       "      <td>0</td>\n",
       "      <td>As we drill @jidesanwoolu on #LagosOkadaBan, a...</td>\n",
       "      <td>sarafa_j</td>\n",
       "      <td>470</td>\n",
       "    </tr>\n",
       "    <tr>\n",
       "      <td>2</td>\n",
       "      <td>Tue Feb 04 07:31:09 +0000 2020</td>\n",
       "      <td>0</td>\n",
       "      <td>0</td>\n",
       "      <td>0</td>\n",
       "      <td>0</td>\n",
       "      <td>Dear Lagosians, kindly stay safe out there. Do...</td>\n",
       "      <td>OluwapelumiOhu</td>\n",
       "      <td>165</td>\n",
       "    </tr>\n",
       "    <tr>\n",
       "      <td>3</td>\n",
       "      <td>Tue Feb 04 07:31:33 +0000 2020</td>\n",
       "      <td>0</td>\n",
       "      <td>0</td>\n",
       "      <td>0</td>\n",
       "      <td>0</td>\n",
       "      <td>Dear Lagosians, kindly stay safe out there. Do...</td>\n",
       "      <td>MsLena293</td>\n",
       "      <td>13</td>\n",
       "    </tr>\n",
       "    <tr>\n",
       "      <td>4</td>\n",
       "      <td>Tue Feb 04 07:31:50 +0000 2020</td>\n",
       "      <td>0</td>\n",
       "      <td>0</td>\n",
       "      <td>0</td>\n",
       "      <td>0</td>\n",
       "      <td>So Klobuchar who was the only candidate to tre...</td>\n",
       "      <td>goodmorninchirp</td>\n",
       "      <td>42</td>\n",
       "    </tr>\n",
       "  </tbody>\n",
       "</table>\n",
       "</div>"
      ],
      "text/plain": [
       "                       created_at  reply_count  retweet_count  favorite_count  \\\n",
       "0  Tue Feb 04 07:30:59 +0000 2020            0              0               0   \n",
       "1  Tue Feb 04 07:31:01 +0000 2020            0              0               0   \n",
       "2  Tue Feb 04 07:31:09 +0000 2020            0              0               0   \n",
       "3  Tue Feb 04 07:31:33 +0000 2020            0              0               0   \n",
       "4  Tue Feb 04 07:31:50 +0000 2020            0              0               0   \n",
       "\n",
       "   quote_count                                               text  \\\n",
       "0            0  Dear Lagosians, kindly stay safe out there. Do...   \n",
       "1            0  As we drill @jidesanwoolu on #LagosOkadaBan, a...   \n",
       "2            0  Dear Lagosians, kindly stay safe out there. Do...   \n",
       "3            0  Dear Lagosians, kindly stay safe out there. Do...   \n",
       "4            0  So Klobuchar who was the only candidate to tre...   \n",
       "\n",
       "       screen_name  followers_count  \n",
       "0      Hawt_Carter              524  \n",
       "1         sarafa_j              470  \n",
       "2   OluwapelumiOhu              165  \n",
       "3        MsLena293               13  \n",
       "4  goodmorninchirp               42  "
      ]
     },
     "execution_count": 67,
     "metadata": {},
     "output_type": "execute_result"
    }
   ],
   "source": [
    "cleaned_data.head()"
   ]
  },
  {
   "cell_type": "code",
   "execution_count": 50,
   "metadata": {},
   "outputs": [],
   "source": [
    "cleaned_data.sort_index(inplace=True)"
   ]
  },
  {
   "cell_type": "code",
   "execution_count": 54,
   "metadata": {},
   "outputs": [],
   "source": [
    "cleaned_data.loc[:, \"screen_name\"] = cleaned_data.user.apply(lambda x: x[\"screen_name\"])\n",
    "cleaned_data.loc[:, \"followers_count\"] = cleaned_data.user.apply(lambda x: x[\"followers_count\"]) "
   ]
  },
  {
   "cell_type": "code",
   "execution_count": 55,
   "metadata": {},
   "outputs": [],
   "source": [
    "cleaned_data.drop(\"user\", axis=1, inplace=True)"
   ]
  },
  {
   "cell_type": "code",
   "execution_count": 61,
   "metadata": {},
   "outputs": [],
   "source": [
    "star_trek_data = cleaned_data.loc[cleaned_data.text.str.contains(\"star trek\", case=False, regex=True)] # noticed that Star Trek got into the tweet stream a lot because of my search items. "
   ]
  },
  {
   "cell_type": "code",
   "execution_count": 64,
   "metadata": {},
   "outputs": [
    {
     "data": {
      "text/plain": [
       "Int64Index([   0,    1,    2,    3,    4,    5,    7,    8,    9,   10,\n",
       "            ...\n",
       "            3243, 3244, 3245, 3246, 3247, 3248, 3249, 3250, 3251, 3252],\n",
       "           dtype='int64', length=2855)"
      ]
     },
     "execution_count": 64,
     "metadata": {},
     "output_type": "execute_result"
    }
   ],
   "source": [
    "cleaned_data = cleaned_data.drop(star_trek_data.index).reset_index(drop=True)"
   ]
  },
  {
   "cell_type": "code",
   "execution_count": 69,
   "metadata": {},
   "outputs": [],
   "source": [
    "cleaned_data.to_csv(\"OkadaBan_Cleaned.csv\", index=False)"
   ]
  }
 ],
 "metadata": {
  "file_extension": ".py",
  "kernelspec": {
   "display_name": "Python 3.7.4 64-bit",
   "language": "python",
   "name": "python37464bit95ebce6f3da346888d8e5a717b067d15"
  },
  "language_info": {
   "codemirror_mode": {
    "name": "ipython",
    "version": 3
   },
   "file_extension": ".py",
   "mimetype": "text/x-python",
   "name": "python",
   "nbconvert_exporter": "python",
   "pygments_lexer": "ipython3",
   "version": "3.7.4"
  },
  "mimetype": "text/x-python",
  "name": "python",
  "npconvert_exporter": "python",
  "pygments_lexer": "ipython3",
  "version": 3
 },
 "nbformat": 4,
 "nbformat_minor": 4
}
