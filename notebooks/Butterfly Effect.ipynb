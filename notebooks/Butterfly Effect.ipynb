{
 "cells": [
  {
   "cell_type": "code",
   "execution_count": 1,
   "metadata": {},
   "outputs": [],
   "source": [
    "import pandas as pd\n",
    "import re"
   ]
  },
  {
   "cell_type": "code",
   "execution_count": 2,
   "metadata": {},
   "outputs": [],
   "source": [
    "data = pd.read_csv(\"OkadaBan_Cleaned.csv\")"
   ]
  },
  {
   "cell_type": "code",
   "execution_count": 3,
   "metadata": {},
   "outputs": [
    {
     "data": {
      "text/html": [
       "<div>\n",
       "<style scoped>\n",
       "    .dataframe tbody tr th:only-of-type {\n",
       "        vertical-align: middle;\n",
       "    }\n",
       "\n",
       "    .dataframe tbody tr th {\n",
       "        vertical-align: top;\n",
       "    }\n",
       "\n",
       "    .dataframe thead th {\n",
       "        text-align: right;\n",
       "    }\n",
       "</style>\n",
       "<table border=\"1\" class=\"dataframe\">\n",
       "  <thead>\n",
       "    <tr style=\"text-align: right;\">\n",
       "      <th></th>\n",
       "      <th>created_at</th>\n",
       "      <th>reply_count</th>\n",
       "      <th>retweet_count</th>\n",
       "      <th>favorite_count</th>\n",
       "      <th>quote_count</th>\n",
       "      <th>text</th>\n",
       "      <th>screen_name</th>\n",
       "      <th>followers_count</th>\n",
       "    </tr>\n",
       "  </thead>\n",
       "  <tbody>\n",
       "    <tr>\n",
       "      <td>0</td>\n",
       "      <td>Tue Feb 04 07:30:59 +0000 2020</td>\n",
       "      <td>0</td>\n",
       "      <td>0</td>\n",
       "      <td>0</td>\n",
       "      <td>0</td>\n",
       "      <td>Dear Lagosians, kindly stay safe out there. Do...</td>\n",
       "      <td>Hawt_Carter</td>\n",
       "      <td>524</td>\n",
       "    </tr>\n",
       "    <tr>\n",
       "      <td>1</td>\n",
       "      <td>Tue Feb 04 07:31:01 +0000 2020</td>\n",
       "      <td>0</td>\n",
       "      <td>0</td>\n",
       "      <td>0</td>\n",
       "      <td>0</td>\n",
       "      <td>As we drill @jidesanwoolu on #LagosOkadaBan, a...</td>\n",
       "      <td>sarafa_j</td>\n",
       "      <td>470</td>\n",
       "    </tr>\n",
       "    <tr>\n",
       "      <td>2</td>\n",
       "      <td>Tue Feb 04 07:31:09 +0000 2020</td>\n",
       "      <td>0</td>\n",
       "      <td>0</td>\n",
       "      <td>0</td>\n",
       "      <td>0</td>\n",
       "      <td>Dear Lagosians, kindly stay safe out there. Do...</td>\n",
       "      <td>OluwapelumiOhu</td>\n",
       "      <td>165</td>\n",
       "    </tr>\n",
       "    <tr>\n",
       "      <td>3</td>\n",
       "      <td>Tue Feb 04 07:31:33 +0000 2020</td>\n",
       "      <td>0</td>\n",
       "      <td>0</td>\n",
       "      <td>0</td>\n",
       "      <td>0</td>\n",
       "      <td>Dear Lagosians, kindly stay safe out there. Do...</td>\n",
       "      <td>MsLena293</td>\n",
       "      <td>13</td>\n",
       "    </tr>\n",
       "    <tr>\n",
       "      <td>4</td>\n",
       "      <td>Tue Feb 04 07:31:50 +0000 2020</td>\n",
       "      <td>0</td>\n",
       "      <td>0</td>\n",
       "      <td>0</td>\n",
       "      <td>0</td>\n",
       "      <td>So Klobuchar who was the only candidate to tre...</td>\n",
       "      <td>goodmorninchirp</td>\n",
       "      <td>42</td>\n",
       "    </tr>\n",
       "  </tbody>\n",
       "</table>\n",
       "</div>"
      ],
      "text/plain": [
       "                       created_at  reply_count  retweet_count  favorite_count  \\\n",
       "0  Tue Feb 04 07:30:59 +0000 2020            0              0               0   \n",
       "1  Tue Feb 04 07:31:01 +0000 2020            0              0               0   \n",
       "2  Tue Feb 04 07:31:09 +0000 2020            0              0               0   \n",
       "3  Tue Feb 04 07:31:33 +0000 2020            0              0               0   \n",
       "4  Tue Feb 04 07:31:50 +0000 2020            0              0               0   \n",
       "\n",
       "   quote_count                                               text  \\\n",
       "0            0  Dear Lagosians, kindly stay safe out there. Do...   \n",
       "1            0  As we drill @jidesanwoolu on #LagosOkadaBan, a...   \n",
       "2            0  Dear Lagosians, kindly stay safe out there. Do...   \n",
       "3            0  Dear Lagosians, kindly stay safe out there. Do...   \n",
       "4            0  So Klobuchar who was the only candidate to tre...   \n",
       "\n",
       "       screen_name  followers_count  \n",
       "0      Hawt_Carter              524  \n",
       "1         sarafa_j              470  \n",
       "2   OluwapelumiOhu              165  \n",
       "3        MsLena293               13  \n",
       "4  goodmorninchirp               42  "
      ]
     },
     "execution_count": 3,
     "metadata": {},
     "output_type": "execute_result"
    }
   ],
   "source": [
    "data.head()"
   ]
  },
  {
   "cell_type": "code",
   "execution_count": 53,
   "metadata": {},
   "outputs": [],
   "source": [
    "data[\"interactions\"] = data.reply_count + data.retweet_count + data.favorite_count + data.quote_count"
   ]
  },
  {
   "cell_type": "code",
   "execution_count": 54,
   "metadata": {},
   "outputs": [],
   "source": [
    "import matplotlib.pyplot as plt\n",
    "import seaborn as sns; sns.set()\n",
    "\n",
    "%matplotlib inline"
   ]
  },
  {
   "cell_type": "code",
   "execution_count": 55,
   "metadata": {},
   "outputs": [
    {
     "name": "stderr",
     "output_type": "stream",
     "text": [
      "C:\\Users\\NiniolaAdegboyega\\AppData\\Local\\Programs\\Python\\Python37\\lib\\site-packages\\statsmodels\\nonparametric\\kde.py:487: RuntimeWarning: invalid value encountered in true_divide\n",
      "  binned = fast_linbin(X, a, b, gridsize) / (delta * nobs)\n",
      "C:\\Users\\NiniolaAdegboyega\\AppData\\Local\\Programs\\Python\\Python37\\lib\\site-packages\\statsmodels\\nonparametric\\kdetools.py:34: RuntimeWarning: invalid value encountered in double_scalars\n",
      "  FAC1 = 2*(np.pi*bw/RANGE)**2\n"
     ]
    },
    {
     "data": {
      "text/plain": [
       "<matplotlib.axes._subplots.AxesSubplot at 0x192677c3308>"
      ]
     },
     "execution_count": 55,
     "metadata": {},
     "output_type": "execute_result"
    },
    {
     "data": {
      "image/png": "[encoded data removed]",
      "text/plain": [
       "<Figure size 432x288 with 1 Axes>"
      ]
     },
     "metadata": {
      "needs_background": "light"
     },
     "output_type": "display_data"
    }
   ],
   "source": [
    "sns.distplot(data.interactions)"
   ]
  },
  {
   "cell_type": "code",
   "execution_count": 4,
   "metadata": {},
   "outputs": [],
   "source": [
    "data.drop_duplicates(inplace=True)"
   ]
  },
  {
   "cell_type": "code",
   "execution_count": 5,
   "metadata": {},
   "outputs": [],
   "source": [
    "data = data.loc[data.text.str.contains(\"Dear Lagosians, kindly stay safe out there\").eq(False)]"
   ]
  },
  {
   "cell_type": "code",
   "execution_count": 6,
   "metadata": {},
   "outputs": [],
   "source": [
    "data = data.loc[data.text.str.contains(\"Jigawa\").eq(False)]"
   ]
  },
  {
   "cell_type": "code",
   "execution_count": 7,
   "metadata": {},
   "outputs": [],
   "source": [
    "data.reset_index(drop=True, inplace=True)"
   ]
  },
  {
   "cell_type": "code",
   "execution_count": 8,
   "metadata": {},
   "outputs": [
    {
     "data": {
      "text/plain": [
       "{900: 'So my Mum sent me to get some Fruits today, no okada, no keke...so I had to trek from Ojota to Ketu.\\n\\nI got there &amp; the people who sold Fruits hadnt even arrived. I guess they were trekking too😂\\n\\nI went back home without getting them.\\n\\nIt was indeed a FRUITLESS Journey.\\n\\n#Lagos https://t.co/ejJIVCXaPV',\n",
       " 1818: 'PRASHAR LAKE TREK \\nBEST Price: 2300/- Per Person for 1N/2D\\n\\nBooking Open for B2B, Solo, Group, School, Corporate Groups.\\nFrom Booking call or WhatsApp 9971214881\\n#Prashar #Prasharlake #prasharlaketrek #himachal #panarsa #mandi #jwalapur #adventurephunk #indiantrekkersclub #nature https://t.co/Qb0rrcGqfB',\n",
       " 2008: 'I trekked from ọgbà to Ikeja today, nice one Sanwo olu, nice one',\n",
       " 603: \"@mimidimplez Yes o,I trekked from VI to Allen,let's just thank God for life.\",\n",
       " 1114: 'It’s been a really long day already for Lagosians,compensate yourself with decent and affordable meals from @warachowhq \\nEach frame goes for 3000, free drink+free delivery in VI,Lekki,Iponri,Ikoyi,Yaba,Surulere and costain\\nJust send a dm😊😍\\n5 plates goes for 12,500naira https://t.co/HYsGlMbKIR'}"
      ]
     },
     "execution_count": 8,
     "metadata": {},
     "output_type": "execute_result"
    }
   ],
   "source": [
    "data.text.sample(n=5).to_dict()"
   ]
  },
  {
   "cell_type": "markdown",
   "metadata": {},
   "source": [
    "# Named Entity Recognition"
   ]
  },
  {
   "cell_type": "code",
   "execution_count": 9,
   "metadata": {},
   "outputs": [],
   "source": [
    "pattern = re.compile(r\"(?:(?<=trekked from\\s)|(?<=trek from\\s)|(?<=trekking from)).*?(?=\\s\\bto\\b)\")"
   ]
  },
  {
   "cell_type": "code",
   "execution_count": 10,
   "metadata": {},
   "outputs": [],
   "source": [
    "def re_search(text, pat=pattern):\n",
    "    try:\n",
    "        temp = pat.search(text)\n",
    "        return temp.group()\n",
    "    except AttributeError:\n",
    "        return \"\""
   ]
  },
  {
   "cell_type": "code",
   "execution_count": 11,
   "metadata": {},
   "outputs": [],
   "source": [
    "data.loc[:, \"from_re\"] = data.text.apply(re_search)"
   ]
  },
  {
   "cell_type": "code",
   "execution_count": 12,
   "metadata": {},
   "outputs": [
    {
     "data": {
      "text/plain": [
       "1462    Dopemu under bridge\n",
       "367                      DC\n",
       "1176                 Oshodi\n",
       "343                    Ajah\n",
       "875                   Agege\n",
       "Name: from_re, dtype: object"
      ]
     },
     "execution_count": 12,
     "metadata": {},
     "output_type": "execute_result"
    }
   ],
   "source": [
    "data.from_re.sample(n=5)"
   ]
  },
  {
   "cell_type": "markdown",
   "metadata": {},
   "source": [
    "pattern_2 = re.compile(r\"\\bto\\s*(\\w+){0,1}[.]*\")  # (?<=to\\b\\s)(\\S*\\s*){0,1}"
   ]
  },
  {
   "cell_type": "code",
   "execution_count": 17,
   "metadata": {},
   "outputs": [
    {
     "data": {
      "text/plain": [
       "634           Agege\n",
       "173           Ojota\n",
       "251     Iyana Ipaja\n",
       "188           Ojota\n",
       "1177    Ikeja Along\n",
       "Name: from_re, dtype: object"
      ]
     },
     "execution_count": 17,
     "metadata": {},
     "output_type": "execute_result"
    }
   ],
   "source": [
    "data.from_re.loc[~data.from_re.eq(\"\")].sample(n=5)"
   ]
  },
  {
   "cell_type": "code",
   "execution_count": 21,
   "metadata": {},
   "outputs": [],
   "source": [
    "data.drop(data.loc[data.from_re.eq(\"DC\")].index, axis=0, inplace=True)"
   ]
  },
  {
   "cell_type": "code",
   "execution_count": 22,
   "metadata": {},
   "outputs": [],
   "source": [
    "data.reset_index(drop=True, inplace=True)"
   ]
  },
  {
   "cell_type": "code",
   "execution_count": 23,
   "metadata": {},
   "outputs": [
    {
     "data": {
      "text/plain": [
       "(1925, 9)"
      ]
     },
     "execution_count": 23,
     "metadata": {},
     "output_type": "execute_result"
    }
   ],
   "source": [
    "data.shape"
   ]
  },
  {
   "cell_type": "code",
   "execution_count": 40,
   "metadata": {},
   "outputs": [],
   "source": [
    "def return_locations(text):\n",
    "    \n",
    "    # splits text by full stop into sentences\n",
    "    sentences = text.lower().split(\".\")\n",
    "    #print(sentences)\n",
    "    \n",
    "    # splits sentences by whitspace character \n",
    "    for sent in sentences:\n",
    "        word_list = sent.split()\n",
    "        \n",
    "        # check that the sentence contains both \"from\" and \"to\" \n",
    "        if (\"from\" in word_list) & (\"to\" in word_list):\n",
    "            from_ind = word_list.index(\"from\")\n",
    "            to_ind = word_list.index(\"to\")\n",
    "            \n",
    "            # checks that trek is used in the sentence \n",
    "            if (\"trek\" in word_list) | (\"trekked\" in word_list) | (\"trekking\" in word_list):\n",
    "                #print(\"yes\")\n",
    "                # checks that from comes before to\n",
    "                if from_ind < to_ind:\n",
    "                    try:\n",
    "                        # collects next two words after to\n",
    "                        to_word = word_list[to_ind+1: to_ind+3]\n",
    "                        to_word = \" \".join(to_word)\n",
    "                    except:\n",
    "                        # if only one words comes before to, collects it\n",
    "                        to_word = word_list[to_ind+1]\n",
    "                    # concatenates words between from and to\n",
    "                    return \" \".join(word_list[from_ind+1:to_ind]), to_word\n",
    "            \n",
    "                # checks that to comes after from \n",
    "                if to_ind < from_ind:\n",
    "                    try:\n",
    "                        # collects the next two words after from\n",
    "                        from_word = word_list[from_ind+1: from_ind+3]\n",
    "                        from_word = \" \".join(word_list)\n",
    "                    except:\n",
    "                        # if only one word comes after from, collects it \n",
    "                        from_word = word_list[from_ind+1]\n",
    "                    # concatenates words between from and to\n",
    "                    return from_word, \" \".join(word_list[to_ind+1:from_ind])\n",
    "            else:\n",
    "                # if there's no trek in the sentence, continue to next sentence\n",
    "                continue\n",
    "        else:\n",
    "            # if there's no from and to in the sentence, continue to next sentence\n",
    "            continue"
   ]
  },
  {
   "cell_type": "code",
   "execution_count": 43,
   "metadata": {},
   "outputs": [],
   "source": [
    "locations = data.text.apply(return_locations)"
   ]
  },
  {
   "cell_type": "code",
   "execution_count": 46,
   "metadata": {},
   "outputs": [],
   "source": [
    "data[\"locations_from\"] = locations.apply(lambda x: None if x == None else x[0])\n",
    "data[\"locations_to\"] = locations.apply(lambda x: None if x == None else x[1])"
   ]
  },
  {
   "cell_type": "code",
   "execution_count": 52,
   "metadata": {},
   "outputs": [
    {
     "data": {
      "text/plain": [
       "497"
      ]
     },
     "execution_count": 52,
     "metadata": {},
     "output_type": "execute_result"
    }
   ],
   "source": [
    "data.locations_from.isna().sum()"
   ]
  },
  {
   "cell_type": "code",
   "execution_count": 51,
   "metadata": {},
   "outputs": [
    {
     "data": {
      "text/plain": [
       "983"
      ]
     },
     "execution_count": 51,
     "metadata": {},
     "output_type": "execute_result"
    }
   ],
   "source": [
    "data.from_re.eq(\"\").sum()"
   ]
  }
 ],
 "metadata": {
  "file_extension": ".py",
  "kernelspec": {
   "display_name": "Python 3.7.4 64-bit",
   "language": "python",
   "name": "python37464bit95ebce6f3da346888d8e5a717b067d15"
  },
  "language_info": {
   "codemirror_mode": {
    "name": "ipython",
    "version": 3
   },
   "file_extension": ".py",
   "mimetype": "text/x-python",
   "name": "python",
   "nbconvert_exporter": "python",
   "pygments_lexer": "ipython3",
   "version": "3.7.4"
  },
  "mimetype": "text/x-python",
  "name": "python",
  "npconvert_exporter": "python",
  "pygments_lexer": "ipython3",
  "version": 3
 },
 "nbformat": 4,
 "nbformat_minor": 4
}
